{
 "cells": [
  {
   "cell_type": "code",
   "execution_count": 21,
   "metadata": {},
   "outputs": [
    {
     "name": "stdout",
     "output_type": "stream",
     "text": [
      "\n",
      "Financial Analysis:\n",
      "----------------------\n",
      "Total Months: 41\n",
      "Total: $18971412\n",
      "Average Change: $-6758.975\n",
      "Greatest Increase: Sep-15 ($1195111)\n",
      "Greatest Decrease: Aug-14 ($-1172384))\n",
      "\n"
     ]
    }
   ],
   "source": [
    "import os\n",
    "import csv\n",
    "\n",
    "#Import the file to get the data\n",
    "File = os.path.join(\"budget_data.csv\")\n",
    "Fileout=\"Financial_Analysis.txt\"\n",
    "#Create empty lists to house the values of months and revenue\n",
    "month_names=[]\n",
    "revenue_values=[]\n",
    "\n",
    "\n",
    "#Open file with reader to interpret data\n",
    "with open(File,\"r\", newline=\"\") as BankFile:\n",
    "    csv = csv.reader(BankFile, delimiter=\",\")\n",
    "\n",
    "#Put separate columns into lists created above\n",
    "    next(csv)\n",
    "    for row in csv:\n",
    "        # Add title\n",
    "        month_names.append(row[0])\n",
    "\n",
    "        # Add revenue\n",
    "        revenue_values.append(int(row[1]))\n",
    "   \n",
    "    #Calculate and print sum of all values in revenue to find net value \n",
    "    Total=sum(revenue_values)\n",
    "    \n",
    "    #Calculate the difference between each month and save to a new list\n",
    "    differences = [(y-x) for (x, y) in zip(revenue_values[:-1], revenue_values[1:])]\n",
    "    \n",
    "    #Calculate the average of all the differences in the list and save to total average\n",
    "    total_avg= sum(differences)/len(differences)\n",
    "    \n",
    "        \n",
    "    monthly_rev=[]\n",
    "    monthly_rev=(zip(month_names, revenue_values))\n",
    "    \n",
    "    #Calculate values of greatest increase and greatest decrease\n",
    "    profit=max(revenue_values)\n",
    "    deficit=min(revenue_values)\n",
    "\n",
    "    #If item at index 1 equals max or min, then print the corresponding values\n",
    "    for row in monthly_rev:\n",
    "        if row[1]>=profit:\n",
    "            winner=row[0]\n",
    "            profit=row[1]\n",
    "            \n",
    "\n",
    "        elif row[1]<=deficit:\n",
    "            loser=row[0]\n",
    "            deficit=row[1]\n",
    "\n",
    "#Save final statement to single variable for export\n",
    "financial_analysis=(f\"\\nFinancial Analysis:\\n\"\n",
    "                        f\"----------------------\\n\"\n",
    "                        f\"Total Months: {(len(month_names))}\\n\"\n",
    "                        f\"Total: ${Total}\\n\"\n",
    "                        f\"Average Change: ${total_avg}\\n\"    \n",
    "                        f\"Greatest Increase: {winner} (${profit})\\n\"\n",
    "                        f\"Greatest Decrease: {loser} (${deficit}))\\n\")\n",
    "print(financial_analysis)\n",
    "\n",
    "with open(Fileout, \"w\") as txt_file:\n",
    "    txt_file.write(financial_analysis)"
   ]
  },
  {
   "cell_type": "code",
   "execution_count": 17,
   "metadata": {},
   "outputs": [],
   "source": [
    "\n",
    "\n",
    "\n"
   ]
  },
  {
   "cell_type": "code",
   "execution_count": null,
   "metadata": {},
   "outputs": [],
   "source": []
  }
 ],
 "metadata": {
  "kernelspec": {
   "display_name": "Python 3",
   "language": "python",
   "name": "python3"
  },
  "language_info": {
   "codemirror_mode": {
    "name": "ipython",
    "version": 3
   },
   "file_extension": ".py",
   "mimetype": "text/x-python",
   "name": "python",
   "nbconvert_exporter": "python",
   "pygments_lexer": "ipython3",
   "version": "3.6.5"
  }
 },
 "nbformat": 4,
 "nbformat_minor": 2
}
